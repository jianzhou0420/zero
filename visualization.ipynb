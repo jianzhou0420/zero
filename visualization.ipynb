{
 "cells": [
  {
   "cell_type": "code",
   "execution_count": 3,
   "metadata": {},
   "outputs": [
    {
     "name": "stdout",
     "output_type": "stream",
     "text": [
      "dict_keys(['data_ids', 'pc_fts', 'step_ids', 'pc_centroids', 'pc_radius', 'ee_poses', 'txt_embeds', 'gt_actions', 'disc_pos_probs'])\n"
     ]
    }
   ],
   "source": [
    "import open3d as o3d\n",
    "import pickle\n",
    "import numpy as np\n",
    "file_path = '/media/jian/ssd4t/selfgen/test/test/seed42/test1111/close_jar/variation0/episodes/episode0/data.pkl'\n",
    "\n",
    "with open(file_path, 'rb') as f:\n",
    "    data = pickle.load(f)\n",
    "\n",
    "print(data.keys())\n",
    "\n",
    "for t in range(len(data['pc_fts'])):\n",
    "    pc_fts = data['pc_fts'][t]\n",
    "\n",
    "    xyz = np.array(pc_fts[:, :3])\n",
    "    rgb = np.array((pc_fts[:, 3:6] + 1) / 2)\n",
    "\n",
    "    # pcd = o3d.geometry.PointCloud()\n",
    "    # pcd.points = o3d.utility.Vector3dVector(xyz)\n",
    "    # pcd.colors = o3d.utility.Vector3dVector(rgb)\n",
    "\n",
    "    # o3d.visualization.draw_geometries([pcd])\n",
    "    \n",
    "    action_current_xyz = data['ee_poses'][t][:3]\n",
    "    action_next_xyz = data['gt_actions'][t][:3]\n",
    "    \n",
    "    action_current_xyz\n"
   ]
  }
 ],
 "metadata": {
  "kernelspec": {
   "display_name": "zero",
   "language": "python",
   "name": "python3"
  },
  "language_info": {
   "codemirror_mode": {
    "name": "ipython",
    "version": 3
   },
   "file_extension": ".py",
   "mimetype": "text/x-python",
   "name": "python",
   "nbconvert_exporter": "python",
   "pygments_lexer": "ipython3",
   "version": "3.10.16"
  }
 },
 "nbformat": 4,
 "nbformat_minor": 2
}
