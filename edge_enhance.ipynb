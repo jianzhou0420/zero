{
 "cells": [
  {
   "cell_type": "code",
   "execution_count": null,
   "metadata": {},
   "outputs": [
    {
     "name": "stdout",
     "output_type": "stream",
     "text": [
      "dict_keys(['key_frameids', 'rgb', 'pc', 'action', 'gripper_pose_heatmap', 'bbox', 'pose'])\n"
     ]
    },
    {
     "name": "stderr",
     "output_type": "stream",
     "text": [
      "Exception ignored in: <bound method IPythonKernel._clean_thread_parent_frames of <ipykernel.ipkernel.IPythonKernel object at 0x7fc83623a710>>\n",
      "Traceback (most recent call last):\n",
      "  File \"/home/jian/anaconda3/envs/zero/lib/python3.10/site-packages/ipykernel/ipkernel.py\", line 775, in _clean_thread_parent_frames\n",
      "    def _clean_thread_parent_frames(\n",
      "KeyboardInterrupt: \n",
      "\n",
      "KeyboardInterrupt\n",
      "\n"
     ]
    }
   ],
   "source": [
    "import pickle\n",
    "from zero.v3.dataprocess.ObsProcessor import ObsProcessLotus\n",
    "single_episode_path = '/media/jian/ssd4t/zero/1_Data/A_Selfgen/seed42/place_shape_in_shape_sorter/variation0/episodes/episode0/data.pkl'\n",
    "config_path='/media/jian/ssd4t/zero/zero/v3/config/0.005_sort_shape.yaml'\n",
    "op=ObsProcessLotus(config=config_path)\n",
    "with open(single_episode_path, 'rb') as f:\n",
    "    data = pickle.load(f)\n",
    "\n",
    "print(data.keys())\n",
    "\n"
   ]
  },
  {
   "cell_type": "code",
   "execution_count": null,
   "metadata": {},
   "outputs": [],
   "source": []
  }
 ],
 "metadata": {
  "kernelspec": {
   "display_name": "zero",
   "language": "python",
   "name": "python3"
  },
  "language_info": {
   "codemirror_mode": {
    "name": "ipython",
    "version": 3
   },
   "file_extension": ".py",
   "mimetype": "text/x-python",
   "name": "python",
   "nbconvert_exporter": "python",
   "pygments_lexer": "ipython3",
   "version": "3.10.16"
  }
 },
 "nbformat": 4,
 "nbformat_minor": 2
}
