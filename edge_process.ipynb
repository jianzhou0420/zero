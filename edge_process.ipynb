{
 "cells": [
  {
   "cell_type": "code",
   "execution_count": 1,
   "metadata": {},
   "outputs": [
    {
     "name": "stdout",
     "output_type": "stream",
     "text": [
      "Jupyter environment detected. Enabling Open3D WebVisualizer.\n",
      "[Open3D INFO] WebRTC GUI backend enabled.\n",
      "[Open3D INFO] WebRTCWindowSystem: HTTP handshake server disabled.\n",
      "MODEL:\n",
      "  action_config:\n",
      "    best_disc_pos: max\n",
      "    context_channels: 256\n",
      "    dim_actions: 7\n",
      "    dropout: 0.2\n",
      "    max_steps: 30\n",
      "    max_traj_len: 1\n",
      "    max_txt_len: 77\n",
      "    pos_bin_size: 0.01\n",
      "    pos_bins: 15\n",
      "    pos_heatmap_temp: 0.1\n",
      "    pos_pred_type: heatmap_disc\n",
      "    reduce: max\n",
      "    rot_pred_type: euler_disc\n",
      "    txt_ft_size: 512\n",
      "    txt_reduce: attn\n",
      "    use_ee_pose: False\n",
      "    use_step_id: False\n",
      "    voxel_size: 0.01\n",
      "  loss_config:\n",
      "    pos_weight: 1\n",
      "    rot_weight: 1\n",
      "  model_class: SimplePolicyPTV3CA\n",
      "  ptv3_config:\n",
      "    add_coords_in_attn: none\n",
      "    attn_drop: 0.1\n",
      "    cls_mode: False\n",
      "    dec_channels: [128, 128, 256, 512]\n",
      "    dec_depths: [1, 1, 1, 1]\n",
      "    dec_num_head: [4, 4, 8, 16]\n",
      "    dec_patch_size: [128, 128, 128, 128]\n",
      "    drop_path: 0\n",
      "    enable_flash: False\n",
      "    enable_rpe: False\n",
      "    enc_channels: [64, 128, 256, 512, 768]\n",
      "    enc_depths: [1, 1, 1, 1, 1]\n",
      "    enc_num_head: [2, 4, 8, 16, 32]\n",
      "    enc_patch_size: [128, 128, 128, 128, 128]\n",
      "    in_channels: 7\n",
      "    mlp_ratio: 4\n",
      "    order: ['z', 'z-trans', 'hilbert', 'hilbert-trans']\n",
      "    pdnorm_adaptive: False\n",
      "    pdnorm_affine: True\n",
      "    pdnorm_bn: False\n",
      "    pdnorm_conditions: None\n",
      "    pdnorm_decouple: False\n",
      "    pdnorm_ln: False\n",
      "    pdnorm_only_decoder: False\n",
      "    pre_norm: True\n",
      "    proj_drop: 0.1\n",
      "    qk_norm: True\n",
      "    qk_scale: None\n",
      "    qkv_bias: True\n",
      "    scaled_cosine_attn: False\n",
      "    shuffle_orders: True\n",
      "    stride: [2, 2, 2, 2]\n",
      "    upcast_attention: False\n",
      "    upcast_softmax: False\n",
      "TRAIN:\n",
      "  betas: [0.9, 0.98]\n",
      "  epoches: 6500\n",
      "  freeze_params:\n",
      "    decoder: False\n",
      "    encoder: False\n",
      "  grad_norm: 10\n",
      "  gradient_accumulation_steps: 1\n",
      "  learning_rate: 0.0001\n",
      "  log_steps: 1000\n",
      "  lr_sched: cosine\n",
      "  n_workers: 4\n",
      "  num_cosine_cycles: None\n",
      "  num_epochs: None\n",
      "  num_train_steps: 37000\n",
      "  optim: adamw\n",
      "  pin_mem: True\n",
      "  resume_encoder_only: False\n",
      "  resume_training: True\n",
      "  save_steps: 10000\n",
      "  train_batch_size: 4\n",
      "  val_steps: 10000\n",
      "  warmup_steps: 2000\n",
      "  weight_decay: 0.05\n",
      "TRAIN_DATASET:\n",
      "  all_step_in_batch: True\n",
      "  aug_max_rot: 45\n",
      "  augment_pc: True\n",
      "  data_dir: /media/jian/ssd4t/selfgen/after_shock3\n",
      "  euler_resolution: 5\n",
      "  include_last_step: False\n",
      "  instr_embed_file: /data/lotus/peract/train/keysteps_bbox_pcd/instr_embeds_clip.npy\n",
      "  instr_embed_type: all\n",
      "  num_points: 4096\n",
      "  pos_bin_size: 0.01\n",
      "  pos_bins: 15\n",
      "  pos_heatmap_no_robot: True\n",
      "  pos_heatmap_type: dist\n",
      "  pos_type: disc\n",
      "  real_robot: False\n",
      "  rm_pc_outliers: False\n",
      "  rm_pc_outliers_neighbors: 25\n",
      "  rm_robot: box_keep_gripper\n",
      "  rm_table: True\n",
      "  rot_type: euler_disc\n",
      "  same_npoints_per_example: False\n",
      "  sample_points_by_distance: False\n",
      "  tasks_to_use: ['close_jar']\n",
      "  taskvar_file: /data/zero/zero/v2/models/lotus/assets/taskvars_peract.json\n",
      "  taskvar_instr_file: /data/zero/zero/v2/models/lotus/assets/taskvars_instructions_peract.json\n",
      "  use_height: True\n",
      "  xyz_norm: False\n",
      "  xyz_shift: center\n",
      "exp_name: after_shock\n",
      "pl_flag: True\n",
      "preprocess_dir: /data/zero/data/preprocess/after_shock3\n",
      "selfgen_dir: /data/zero/data/selfgen/seed42\n",
      "Config loaded\n"
     ]
    }
   ],
   "source": [
    "import pickle\n",
    "import matplotlib.pyplot as plt\n",
    "from zero.v3.dataprocess.ObsProcessor import ObsProcessLotus\n",
    "op=ObsProcessLotus()\n",
    "\n"
   ]
  },
  {
   "cell_type": "code",
   "execution_count": 4,
   "metadata": {},
   "outputs": [
    {
     "name": "stdout",
     "output_type": "stream",
     "text": [
      "dict_keys(['key_frameids', 'rgb', 'pc', 'action', 'gripper_pose_heatmap', 'bbox', 'pose'])\n"
     ]
    }
   ],
   "source": [
    "\n",
    "single_episode_path = '/data/zero/data/selfgen/seed42/place_shape_in_shape_sorter/variation0/episodes/episode0/data.pkl'\n",
    "with open(single_episode_path, 'rb') as f:\n",
    "    data = pickle.load(f)\n",
    "\n",
    "print(data.keys())\n",
    "# divide by frame\n",
    "\n",
    "all_frames = []\n",
    "for i in range(len(data['key_frameids'])):\n",
    "    single_frame = {\n",
    "        'key_frameids': [],\n",
    "        'rgb': [],\n",
    "        'pc': [],\n",
    "        'action': [],\n",
    "        'gripper_pose_heatmap': [],\n",
    "        'bbox': [],\n",
    "        'pose': [],\n",
    "    }\n",
    "    single_frame['key_frameids'] = data['key_frameids'][i]\n",
    "    single_frame['rgb'] = data['rgb'][i]\n",
    "    single_frame['pc'] = data['pc'][i]\n",
    "    single_frame['action'] = data['action'][i]\n",
    "    single_frame['gripper_pose_heatmap'] = data['gripper_pose_heatmap'][i]\n",
    "    single_frame['bbox'] = data['bbox'][i]\n",
    "    single_frame['pose'] = data['pose'][i]\n",
    "    all_frames.append(single_frame)\n",
    "\n",
    "first_frame = all_frames[0]"
   ]
  },
  {
   "cell_type": "code",
   "execution_count": 6,
   "metadata": {},
   "outputs": [
    {
     "data": {
      "text/plain": [
       "((4, 512, 512, 3), (4, 512, 512, 3))"
      ]
     },
     "execution_count": 6,
     "metadata": {},
     "output_type": "execute_result"
    }
   ],
   "source": [
    "xyz=first_frame['pc']\n",
    "rgb=first_frame['rgb']\n",
    "xyz.shape, rgb.shape\n",
    "\n",
    "\n",
    "\n",
    "\n",
    "\n",
    "\n"
   ]
  },
  {
   "cell_type": "markdown",
   "metadata": {},
   "source": [
    "# Import"
   ]
  },
  {
   "cell_type": "code",
   "execution_count": 8,
   "metadata": {},
   "outputs": [],
   "source": [
    "import cv2\n",
    "import matplotlib.pyplot as plt\n",
    "import numpy as np"
   ]
  },
  {
   "cell_type": "code",
   "execution_count": 22,
   "metadata": {},
   "outputs": [
    {
     "name": "stdout",
     "output_type": "stream",
     "text": [
      "found edge_points (27647, 3)\n"
     ]
    }
   ],
   "source": [
    "def detect_edges_points(xyz, rgb):\n",
    "    '''\n",
    "    Convert RGBD image to edge points\n",
    "    xyz: (N,H,W,3)\n",
    "    rgb: (N,H,W,3)\n",
    "    '''\n",
    "    batch_size = xyz.shape[0]\n",
    "    edge_points = []\n",
    "    for i in range(batch_size):\n",
    "        image = rgb[i]\n",
    "        pc = xyz[i]\n",
    "        gray = cv2.cvtColor(image, cv2.COLOR_BGR2GRAY)\n",
    "        edges = cv2.Canny(gray, 50, 150, apertureSize=3)\n",
    "        indices = np.where(edges == 255)\n",
    "\n",
    "        edge_points.append(pc[indices])\n",
    "        \n",
    "    edge_points = np.vstack(edge_points)\n",
    "\n",
    "    print('found edge_points',edge_points.shape)\n",
    "\n",
    "    return edge_points\n",
    "\n",
    "\n",
    "\n",
    "test = detect_edges_points(first_frame['pc'], first_frame['rgb'])"
   ]
  },
  {
   "cell_type": "code",
   "execution_count": 9,
   "metadata": {},
   "outputs": [
    {
     "data": {
      "text/plain": [
       "<matplotlib.image.AxesImage at 0x7fed74722140>"
      ]
     },
     "execution_count": 9,
     "metadata": {},
     "output_type": "execute_result"
    },
    {
     "data": {
      "image/png": "[encoded data removed]",
      "text/plain": [
       "<Figure size 1600x800 with 2 Axes>"
      ]
     },
     "metadata": {},
     "output_type": "display_data"
    }
   ],
   "source": []
  },
  {
   "cell_type": "code",
   "execution_count": 37,
   "metadata": {},
   "outputs": [
    {
     "name": "stdout",
     "output_type": "stream",
     "text": [
      "(8521, 3)\n",
      "(6366, 3)\n",
      "(5781, 3)\n",
      "(6979, 3)\n"
     ]
    }
   ],
   "source": [
    "def detect_edges_points(xyz, rgb):\n",
    "    '''\n",
    "    Convert RGBD image to edge points\n",
    "    xyz: (N,H,W,3)\n",
    "    rgb: (N,H,W,3)\n",
    "    '''\n",
    "    batch_size = xyz.shape[0]\n",
    "    edges_points = []\n",
    "    for i in range(batch_size):\n",
    "        image = rgb[i]\n",
    "        pc = xyz[i]\n",
    "        gray = cv2.cvtColor(image, cv2.COLOR_BGR2GRAY)\n",
    "        edges = cv2.Canny(gray, 50, 150, apertureSize=3)\n",
    "        indices = np.where(edges ==255)\n",
    "        \n",
    "        edge_points = pc[indices]\n",
    "        \n",
    "        print(edge_points.shape)\n",
    "\n",
    "    return edges\n",
    "\n",
    "\n",
    "def detect_edges_indices(xyz, rgb):\n",
    "    '''\n",
    "    Convert RGBD image to edge indices\n",
    "    xyz: (N,H,W,3)\n",
    "    rgb: (N,H,W,3)\n",
    "    '''\n",
    "    edges_indices = []\n",
    "\n",
    "    return edges_indices\n",
    "\n",
    "\n",
    "test=detect_edges_points(first_frame['pc'], first_frame['rgb'])"
   ]
  }
 ],
 "metadata": {
  "kernelspec": {
   "display_name": "zero",
   "language": "python",
   "name": "python3"
  },
  "language_info": {
   "codemirror_mode": {
    "name": "ipython",
    "version": 3
   },
   "file_extension": ".py",
   "mimetype": "text/x-python",
   "name": "python",
   "nbconvert_exporter": "python",
   "pygments_lexer": "ipython3",
   "version": "3.10.16"
  }
 },
 "nbformat": 4,
 "nbformat_minor": 2
}
